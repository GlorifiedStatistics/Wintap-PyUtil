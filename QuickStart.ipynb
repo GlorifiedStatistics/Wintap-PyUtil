{
 "cells": [
  {
   "cell_type": "markdown",
   "metadata": {},
   "source": [
    "# Quick start to inspecting Wintap Data\n",
    "\n",
    "* Copy sample data sets from ?\n",
    "    * Note: much faster to copy the \"tgz\" files than the directories/files themselves.\n",
    "* Create a python environment with necessary libraries\n",
    "    * For anaconda, create a new environment with the provided fc-all-environment.yml using:\n",
    "    conda env create -f fc-all-environment.yml\n",
    "* Initialize notebook\n",
    "* Load data\n",
    "* Inspect/explore/destroy"
   ]
  },
  {
   "cell_type": "code",
   "execution_count": null,
   "metadata": {},
   "outputs": [],
   "source": [
    "# Define imports, functions\n",
    "# This dataset_chooser() requires a .env file in the top level of this project. It needs to define DATAPATH as the top level of where your data sets are.\n",
    "# You can optionally define a DEFAULT_PATH pointing to a specific dataset. This provides the convenience of not having to select the dataset when restarting the notebook.\n",
    "# See .env-default for an example.\n",
    "%run notebookutil.py\n",
    "\n",
    "w_datasets=dataset_chooser()\n",
    "display(w_datasets)"
   ]
  },
  {
   "cell_type": "markdown",
   "metadata": {},
   "source": [
    "## Generate python stubs for accessing data"
   ]
  },
  {
   "cell_type": "code",
   "execution_count": null,
   "metadata": {},
   "outputs": [],
   "source": [
    "# Get stats on dataset\n",
    "\n",
    "import os\n",
    "from humanfriendly import format_size\n",
    "\n",
    "total_size = 0\n",
    "start_path = w_datasets.selected  # To get size of current directory\n",
    "\n",
    "event_types = os.listdir(start_path)\n",
    "for event_type in event_types:\n",
    "    cur_size = 0\n",
    "    for path, dirs, files in os.walk(start_path + os.path.sep + event_type):\n",
    "        for f in files:\n",
    "            fp = os.path.join(path, f)\n",
    "            cur_size += os.path.getsize(fp)\n",
    "            total_size += os.path.getsize(fp)\n",
    "    print(f\"{event_type} size: {format_size(cur_size)}\")\n",
    "print(\"Dataset size: \" + format_size(total_size))\n"
   ]
  },
  {
   "cell_type": "code",
   "execution_count": null,
   "metadata": {},
   "outputs": [],
   "source": [
    "# Load Data in pandas\n",
    "# Note: the result is a dictionary keyed by event type with the panda as the value.\n",
    "data_path = w_datasets.selected\n",
    "print(data_path)\n",
    "stdview_files = sv.load_files_from_dataset(f\"{data_path}/stdview\")\n",
    "stdview_df = sv.load_data(stdview_files)\n"
   ]
  },
  {
   "cell_type": "code",
   "execution_count": null,
   "metadata": {},
   "outputs": [],
   "source": [
    "sv.show_events_chart(stdview_df)\n"
   ]
  },
  {
   "cell_type": "code",
   "execution_count": null,
   "metadata": {},
   "outputs": [],
   "source": [
    "# Pretty print row counts.\n",
    "sv.data_summary(stdview_df)\n"
   ]
  },
  {
   "cell_type": "code",
   "execution_count": null,
   "metadata": {},
   "outputs": [],
   "source": [
    "# Search for process by name:\n",
    "def search_process_name(df, term):\n",
    "    return df.loc[\n",
    "        (df[\"process_name\"].notnull()) & (df[\"process_name\"].str.startswith(term))\n",
    "    ]\n",
    "\n",
    "\n",
    "display(search_process_name(stdview_df[\"process\"], \"chrome\"))\n"
   ]
  },
  {
   "cell_type": "code",
   "execution_count": null,
   "metadata": {},
   "outputs": [],
   "source": []
  }
 ],
 "metadata": {
  "kernelspec": {
   "display_name": "Python [conda env:fc-all-duckdb] *",
   "language": "python",
   "name": "conda-env-fc-all-duckdb-py"
  },
  "language_info": {
   "codemirror_mode": {
    "name": "ipython",
    "version": 3
   },
   "file_extension": ".py",
   "mimetype": "text/x-python",
   "name": "python",
   "nbconvert_exporter": "python",
   "pygments_lexer": "ipython3",
   "version": "3.8.15"
  },
  "vscode": {
   "interpreter": {
    "hash": "0c9bc428a467241eff6361f3bdde8a07126a17d472ecf7fd8c8f69e27f262c19"
   }
  }
 },
 "nbformat": 4,
 "nbformat_minor": 4
}
